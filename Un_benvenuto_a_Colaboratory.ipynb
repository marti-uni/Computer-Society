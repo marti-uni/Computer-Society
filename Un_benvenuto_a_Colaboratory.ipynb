{
  "nbformat": 4,
  "nbformat_minor": 0,
  "metadata": {
    "colab": {
      "name": "Un benvenuto a Colaboratory",
      "provenance": [],
      "collapsed_sections": [],
      "toc_visible": true,
      "include_colab_link": true
    },
    "kernelspec": {
      "display_name": "Python 3",
      "name": "python3"
    }
  },
  "cells": [
    {
      "cell_type": "markdown",
      "metadata": {
        "id": "view-in-github",
        "colab_type": "text"
      },
      "source": [
        "<a href=\"https://colab.research.google.com/github/marti-uni/Computer-Society/blob/master/Un_benvenuto_a_Colaboratory.ipynb\" target=\"_parent\"><img src=\"https://colab.research.google.com/assets/colab-badge.svg\" alt=\"Open In Colab\"/></a>"
      ]
    },
    {
      "cell_type": "markdown",
      "metadata": {
        "id": "5fCEDCU_qrC0"
      },
      "source": [
        "<p><img alt=\"Colaboratory logo\" height=\"45px\" src=\"/img/colab_favicon.ico\" align=\"left\" hspace=\"10px\" vspace=\"0px\"></p>\n",
        "\n",
        "<h1>Cos'è Colaboratory?</h1>\n",
        "\n",
        "Colaboratory o, in breve, \"Colab\" ti permette di scrivere ed eseguire codice Python nel tuo browser con i seguenti vantaggi:\n",
        "- Nessuna configurazione necessaria\n",
        "- Accesso gratuito alle GPU\n",
        "- Condivisione semplificata\n",
        "\n",
        "Che tu sia <strong>studente</strong>, <strong>data scientist</strong> o <strong>ricercatore AI</strong>, Colab può semplificarti il lavoro. Guarda <a href=\"https://www.youtube.com/watch?v=inN8seMm7UI\">questo video introduttivo su Colab</a> per ulteriori informazioni oppure inizia qui sotto."
      ]
    },
    {
      "cell_type": "markdown",
      "metadata": {
        "id": "GJBs_flRovLc"
      },
      "source": [
        "## <strong>Introduzione</strong>\n",
        "\n",
        "Il documento che stai leggendo non è una pagina web statica, ma un ambiente interattivo chiamato <strong>blocco note Colab</strong> che ti permette di scrivere ed eseguire codice.\n",
        "\n",
        "Ad esempio, qui vediamo una <strong>cella di codice</strong> con un breve script Python che calcola un valore, lo archivia in una variabile e stampa i risultati:"
      ]
    },
    {
      "cell_type": "code",
      "metadata": {
        "id": "gJr_9dXGpJ05",
        "outputId": "9f556d03-ec67-4950-a485-cfdba9ddd14d",
        "colab": {
          "base_uri": "https://localhost:8080/",
          "height": 34
        }
      },
      "source": [
        "seconds_in_a_day = 24 * 60 * 60\n",
        "seconds_in_a_day"
      ],
      "execution_count": null,
      "outputs": [
        {
          "output_type": "execute_result",
          "data": {
            "text/plain": [
              "86400"
            ]
          },
          "metadata": {
            "tags": []
          },
          "execution_count": 0
        }
      ]
    },
    {
      "cell_type": "markdown",
      "metadata": {
        "id": "2fhs6GZ4qFMx"
      },
      "source": [
        "Per eseguire il codice nella cella sopra, selezionala con un clic e poi premi il pulsante Riproduci a sinistra del codice o usa la scorciatoia da tastiera \"Comando/Ctrl+Invio\". Per modificare il codice, fai clic sulla cella e inizia a modificare.\n",
        "\n",
        "Le variabili che definisci in una cella possono essere usate in seguito in altre celle:"
      ]
    },
    {
      "cell_type": "code",
      "metadata": {
        "id": "-gE-Ez1qtyIA",
        "outputId": "94cb2224-0edf-457b-90b5-0ac3488d8a97",
        "colab": {
          "base_uri": "https://localhost:8080/",
          "height": 34
        }
      },
      "source": [
        "seconds_in_a_week = 7 * seconds_in_a_day\n",
        "seconds_in_a_week"
      ],
      "execution_count": null,
      "outputs": [
        {
          "output_type": "execute_result",
          "data": {
            "text/plain": [
              "604800"
            ]
          },
          "metadata": {
            "tags": []
          },
          "execution_count": 0
        }
      ]
    },
    {
      "cell_type": "markdown",
      "metadata": {
        "id": "lSrWNr3MuFUS"
      },
      "source": [
        "I blocchi note Colab ti permettono di combinare <strong>codice eseguibile</strong> e <strong>RTF</strong> in un unico documento, insieme a <strong>immagini</strong>, <strong>HTML</strong>, <strong>LaTeX</strong> e altro ancora. Quando crei dei blocchi note Colab, questi vengono archiviati nel tuo account Google Drive. Puoi condividere facilmente i blocchi note Colab con collaboratori o amici e dare loro la possibilità di commentare o modificare. Leggi ulteriori informazioni in <a href=\"/notebooks/basic_features_overview.ipynb\">Panoramica di Colab</a>. Per creare un nuovo blocco note Colab, puoi usare il menu File qui sopra o questo link: <a href=\"http://colab.research.google.com#create=true\">crea un nuovo blocco note Colab</a>.\n",
        "\n",
        "I blocchi note Colab sono blocchi note Jupyter ospitati da Colab. Per ulteriori informazioni sul progetto Jupyter, visita <a href=\"https://www.jupyter.org\">jupyter.org</a>."
      ]
    },
    {
      "cell_type": "markdown",
      "metadata": {
        "id": "UdRyKR44dcNI"
      },
      "source": [
        "## Data science\n",
        "\n",
        "Con Colab puoi sfruttare tutta la potenza delle librerie Python per analizzare e visualizzare i dati. La seguente cella di codice usa <strong>numpy</strong> per generare alcuni dati casuali e usa <strong>matplotlib</strong> per visualizzarli. Per modificare il codice, fai clic sulla cella e inizia a modificare."
      ]
    },
    {
      "cell_type": "code",
      "metadata": {
        "id": "C4HZx7Gndbrh",
        "outputId": "cee16b99-bfe1-49d2-c768-f15a26a330cb",
        "colab": {
          "base_uri": "https://localhost:8080/",
          "height": 281
        }
      },
      "source": [
        "import numpy as np\n",
        "from matplotlib import pyplot as plt\n",
        "\n",
        "ys = 200 + np.random.randn(100)\n",
        "x = [x for x in range(len(ys))]\n",
        "\n",
        "plt.plot(x, ys, '-')\n",
        "plt.fill_between(x, ys, 195, where=(ys > 195), facecolor='g', alpha=0.6)\n",
        "\n",
        "plt.title(\"Sample Visualization\")\n",
        "plt.show()"
      ],
      "execution_count": 2,
      "outputs": [
        {
          "output_type": "display_data",
          "data": {
            "image/png": "[encoded data removed]",
            "text/plain": [
              "<Figure size 432x288 with 1 Axes>"
            ]
          },
          "metadata": {
            "tags": [],
            "needs_background": "light"
          }
        }
      ]
    },
    {
      "cell_type": "markdown",
      "metadata": {
        "id": "4_kCnsPUqS6o"
      },
      "source": [
        "Puoi importare i tuoi dati nei blocchi note Colab dal tuo account Google Drive, inclusi i fogli di lavoro, da GitHub e molte altre fonti. Per ulteriori informazioni sull'importazione dei dati e sulle possibilità di utilizzo di Colab per la data science, vedi i link di seguito, sotto <a href=\"#working-with-data\">Utilizzo dei dati</a>."
      ]
    },
    {
      "cell_type": "markdown",
      "metadata": {
        "id": "OwuxHmxllTwN"
      },
      "source": [
        "## Machine learning\n",
        "\n",
        "Con Colab puoi importare un set di dati immagine, addestrare un classificatore di immagini e valutare il modello, il tutto in <a href=\"https://colab.research.google.com/github/tensorflow/docs/blob/master/site/en/tutorials/quickstart/beginner.ipynb\">poche righe di codice</a>. I blocchi note Colab eseguono il codice sui server cloud di Google, il che significa che puoi utilizzare la potenza dell'hardware Google, tra cui <a href=\"#using-accelerated-hardware\">GPU e TPU</a>, a prescindere dalla potenza della tua macchina. Ti serve solo un browser."
      ]
    },
    {
      "cell_type": "markdown",
      "metadata": {
        "id": "ufxBm1yRnruN"
      },
      "source": [
        "Colab è ampiamente utilizzato dalla community del machine learning con applicazioni che includono:\n",
        "- Introduzione a TensorFlow\n",
        "- Sviluppo e addestramento di reti neurali\n",
        "- Esperimenti con TPU\n",
        "- Diffusione della ricerca sull'AI\n",
        "- Creazione di tutorial\n",
        "\n",
        "Per vedere degli esempi di blocchi note Colab che dimostrano le applicazioni di machine learning, vedi i seguenti <a href=\"#machine-learning-examples\">esempi di machine learning</a>."
      ]
    },
    {
      "cell_type": "markdown",
      "metadata": {
        "id": "-Rh3-Vt9Nev9"
      },
      "source": [
        "## Altre risorse\n",
        "\n",
        "### Utilizzo dei blocchi note in Colab\n",
        "- [Panoramica di Colaboratory](/notebooks/basic_features_overview.ipynb)\n",
        "- [Guida a Markdown](/notebooks/markdown_guide.ipynb)\n",
        "- [Importazione di librerie e installazione di dipendenze](/notebooks/snippets/importing_libraries.ipynb)\n",
        "- [Salvataggio e caricamento dei blocchi note in GitHub](https://colab.research.google.com/github/googlecolab/colabtools/blob/master/notebooks/colab-github-demo.ipynb)\n",
        "- [Moduli interattivi](/notebooks/forms.ipynb)\n",
        "- [Widget interattivi](/notebooks/widgets.ipynb)\n",
        "- <img src=\"/img/new.png\" height=\"20px\" align=\"left\" hspace=\"4px\" alt=\"New\"></img>\n",
        " [TensorFlow 2 in Colab](/notebooks/tensorflow_version.ipynb)\n",
        "\n",
        "<a name=\"working-with-data\"></a>\n",
        "### Utilizzo dei dati\n",
        "- [Caricamento dei dati: Drive, Fogli e Google Cloud Storage](/notebooks/io.ipynb) \n",
        "- [Grafici: visualizzare i dati](/notebooks/charts.ipynb)\n",
        "- [Introduzione a BigQuery](/notebooks/bigquery.ipynb)\n",
        "\n",
        "### Machine Learning Crash Course\n",
        "Ecco alcuni dei blocchi note dal corso online sul machine learning di Google. Vedi il <a href=\"https://developers.google.com/machine-learning/crash-course/\">sito web del corso completo</a> per ulteriori informazioni.\n",
        "- [Introduzione a Pandas](/notebooks/mlcc/intro_to_pandas.ipynb)\n",
        "- [Concetti di TensorFlow](/notebooks/mlcc/tensorflow_programming_concepts.ipynb)\n",
        "- [Primi passi con TensorFlow](/notebooks/mlcc/first_steps_with_tensor_flow.ipynb)\n",
        "- [Introduzione alle reti neurali](/notebooks/mlcc/intro_to_neural_nets.ipynb)\n",
        "- [Introduzione a dati sparsi e rappresentazioni distribuite](/notebooks/mlcc/intro_to_sparse_data_and_embeddings.ipynb)\n",
        "\n",
        "<a name=\"using-accelerated-hardware\"></a>\n",
        "### Utilizzo di hardware accelerato\n",
        "- [TensorFlow con GPU](/notebooks/gpu.ipynb)\n",
        "- [TensorFlow con TPU](/notebooks/tpu.ipynb)"
      ]
    },
    {
      "cell_type": "markdown",
      "metadata": {
        "id": "P-H6Lw1vyNNd"
      },
      "source": [
        "<a name=\"machine-learning-examples\"></a>\n",
        "\n",
        "## Esempi di machine learning\n",
        "\n",
        "Per vedere esempi completi delle analisi di machine learning interattive che è possibile effettuare con Colaboratory, segui questi tutorial che usano modelli di <a href=\"https://tfhub.dev\">TensorFlow Hub</a>.\n",
        "\n",
        "Alcuni esempi in primo piano:\n",
        "\n",
        "- <a href=\"https://tensorflow.org/hub/tutorials/tf2_image_retraining\">Riaddestramento di un classificatore di immagini</a>: crea un modello Keras utilizzando un classificatore di immagini preaddestrato per distinguere i fiori.\n",
        "- <a href=\"https://tensorflow.org/hub/tutorials/tf2_text_classification\">Classificazione del testo</a>: classifica le recensioni dei film IMDB come <em>positive</em> o <em>negative</em>.\n",
        "- <a href=\"https://tensorflow.org/hub/tutorials/tf2_arbitrary_image_stylization\">Trasferimento dello stile</a>: usa il deep learning per trasferire lo stile da un'immagine all'altra.\n",
        "- <a href=\"https://tensorflow.org/hub/tutorials/retrieval_with_tf_hub_universal_encoder_qa\">Multilingual Universal Sentence Encoder Q&amp;A</a>: usa un modello di machine learning per rispondere alle domande del set di dati SQuAD.\n",
        "- <a href=\"https://tensorflow.org/hub/tutorials/tweening_conv3d\">Interpolazione video</a>: prevedi gli eventi di un video tra il primo e l'ultimo frame.\n"
      ]
    }
  ]
}